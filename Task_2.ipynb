{
 "cells": [
  {
   "cell_type": "code",
   "execution_count": 17,
   "metadata": {},
   "outputs": [
    {
     "name": "stdout",
     "output_type": "stream",
     "text": [
      "Enter Number(1-1000) of bags : 4\n"
     ]
    }
   ],
   "source": [
    "n = int(input(\"Enter Number(1-1000) of bags : \"))\n",
    "while(n<1 or n>1000):\n",
    "    n = int(input(\"Out of range, Enter again in range (1-1000) : \" ))"
   ]
  },
  {
   "cell_type": "code",
   "execution_count": 18,
   "metadata": {},
   "outputs": [
    {
     "name": "stdout",
     "output_type": "stream",
     "text": [
      "1.01\n",
      "1.991\n",
      "1.32\n",
      "1.4\n",
      "[1.01, 1.991, 1.32, 1.4]\n"
     ]
    }
   ],
   "source": [
    "weight = []\n",
    "for i in range(n):\n",
    "    value = float(input())\n",
    "    while(value<1.01 or value>3.0):\n",
    "        value = float(input(\"Not in range(1-3.0), Enter again\"))\n",
    "    weight.append(value)\n",
    "print(weight)"
   ]
  },
  {
   "cell_type": "code",
   "execution_count": 19,
   "metadata": {},
   "outputs": [
    {
     "name": "stdout",
     "output_type": "stream",
     "text": [
      "3\n"
     ]
    }
   ],
   "source": [
    "limit = 3\n",
    "def efficientJanitor(weight):\n",
    "    weight.sort()\n",
    "    n = len(weight)\n",
    "    checked = []\n",
    "    for i in range(len(weight)):\n",
    "        checked.append(False)\n",
    "    counter = 0\n",
    "    for j in range(n):\n",
    "        if checked[n-(j+1)]: continue \n",
    "        else: checked[n-(j+1)] = True\n",
    "        counter = counter + 1\n",
    "        \n",
    "        remaining  = limit - weight[n-(j+1)]\n",
    "        \n",
    "        for i in range (n-(j+1)):\n",
    "            if not checked[n-(j+1)-(i+1)] and weight[n-(j+1)-(i+1)]<= remaining:\n",
    "                remaining = remaining - weight[n-(j+1)-(i+1)]\n",
    "                checked[n-(j+1)-(i+1)] = True\n",
    "                \n",
    "                \n",
    "    return counter\n",
    "            \n",
    "        \n",
    "print (efficientJanitor(weight))    "
   ]
  },
  {
   "cell_type": "code",
   "execution_count": null,
   "metadata": {},
   "outputs": [],
   "source": []
  }
 ],
 "metadata": {
  "kernelspec": {
   "display_name": "Python 3.7.6 64-bit ('base': conda)",
   "language": "python",
   "name": "python37664bitbaseconda9762ee6d212d4e27972612143481e000"
  },
  "language_info": {
   "codemirror_mode": {
    "name": "ipython",
    "version": 3
   },
   "file_extension": ".py",
   "mimetype": "text/x-python",
   "name": "python",
   "nbconvert_exporter": "python",
   "pygments_lexer": "ipython3",
   "version": "3.7.6"
  }
 },
 "nbformat": 4,
 "nbformat_minor": 4
}
